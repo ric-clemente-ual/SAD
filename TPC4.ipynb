{
  "nbformat": 4,
  "nbformat_minor": 0,
  "metadata": {
    "colab": {
      "name": "TPC4.ipynb",
      "version": "0.3.2",
      "provenance": [],
      "collapsed_sections": [],
      "include_colab_link": true
    },
    "kernelspec": {
      "name": "python3",
      "display_name": "Python 3"
    }
  },
  "cells": [
    {
      "cell_type": "markdown",
      "metadata": {
        "id": "view-in-github",
        "colab_type": "text"
      },
      "source": [
        "<a href=\"https://colab.research.google.com/github/ric-clemente-ual/SAD/blob/master/TPC4.ipynb\" target=\"_parent\"><img src=\"https://colab.research.google.com/assets/colab-badge.svg\" alt=\"Open In Colab\"/></a>"
      ]
    },
    {
      "metadata": {
        "id": "mZhwgCh8DXZQ",
        "colab_type": "code",
        "outputId": "e3290f74-20e0-4703-daf3-63468697005f",
        "colab": {
          "base_uri": "https://localhost:8080/",
          "height": 244
        }
      },
      "cell_type": "code",
      "source": [
        "#Tree Decision\n",
        "from sklearn import datasets, tree, model_selection,linear_model\n",
        "import pandas as pd\n",
        "import numpy as np\n",
        "import matplotlib.pyplot as plt\n",
        "from sklearn.linear_model import LogisticRegression \n",
        "\n",
        "\n",
        "data = datasets.load_digits()\n",
        "\n",
        "\n",
        "\n",
        "[features_train, features_test, classes_train, classes_test] = model_selection.train_test_split(data.data, data.target, test_size=0.30)\n",
        "model = tree.DecisionTreeClassifier()\n",
        "\n",
        "clf = model.fit(features_train, classes_train)\n",
        "\n",
        "score_train = model.score(features_train, classes_train)\n",
        "score_test = model.score(features_test, classes_test)\n",
        "\n",
        "print(\"Features:\", data.target_names)\n",
        "print(\"score_train:\", score_train)\n",
        "print(\"score_test:\", score_test)\n",
        "\n",
        "\n",
        "res = model.predict(features_test)\n",
        "err_features=features_test[res!=classes_test,:]\n",
        "\n",
        "\n",
        "\n",
        "\n",
        "#Wrong ones\n",
        "print(\"Wrong Predictions\")\n",
        "plt.figure(figsize=(20,4))\n",
        "for i,feat in enumerate(err_features[0:10]):\n",
        "    plt.subplot(1, 10, i+1)    \n",
        "    plt.imshow(feat.reshape(8,8), cmap=plt.cm.gray)\n",
        "\n",
        "    \n",
        "    \n",
        "plt.show()\n",
        "print(\"predict:\",res[res!=classes_test][0:10])\n",
        "print(\"actual: \",classes_test[res!=classes_test][0:10])\n"
      ],
      "execution_count": 14,
      "outputs": [
        {
          "output_type": "stream",
          "text": [
            "Features: [0 1 2 3 4 5 6 7 8 9]\n",
            "score_train: 1.0\n",
            "score_test: 0.85\n",
            "Wrong Predictions\n"
          ],
          "name": "stdout"
        },
        {
          "output_type": "display_data",
          "data": {
            "image/png": "[encoded data removed]",
            "text/plain": [
              "<matplotlib.figure.Figure at 0x7f44138fa7b8>"
            ]
          },
          "metadata": {
            "tags": []
          }
        },
        {
          "output_type": "stream",
          "text": [
            "predict: [0 2 7 1 1 4 4 6 1 9]\n",
            "actual:  [4 3 1 9 6 7 7 4 8 7]\n"
          ],
          "name": "stdout"
        }
      ]
    },
    {
      "metadata": {
        "id": "HgnY_nliZbhz",
        "colab_type": "code",
        "colab": {
          "base_uri": "https://localhost:8080/",
          "height": 227
        },
        "outputId": "4ca3ca86-71c0-4ac4-d2a9-7b5252b72ac4"
      },
      "cell_type": "code",
      "source": [
        "#Random Forrest\n",
        "from sklearn import datasets, tree, model_selection,linear_model\n",
        "import numpy as np\n",
        "import matplotlib.pyplot as plt\n",
        "from sklearn.ensemble import RandomForestClassifier\n",
        "\n",
        "\n",
        "data = datasets.load_digits()\n",
        "\n",
        "\n",
        "\n",
        "[features_train, features_test, classes_train, classes_test] = model_selection.train_test_split(data.data, data.target, test_size=0.30)\n",
        "\n",
        "\n",
        "model = RandomForestClassifier(n_estimators=1000)\n",
        "\n",
        "clf = model.fit(features_train, classes_train)\n",
        "\n",
        "score_train = model.score(features_train, classes_train)\n",
        "score_test = model.score(features_test, classes_test)\n",
        "\n",
        "print(\"score_train:\", score_train)\n",
        "print(\"score_test:\", score_test)\n",
        "\n",
        "res = model.predict(features_test)\n",
        "err_features=features_test[res!=classes_test,:]\n",
        "\n",
        "\n",
        "\n",
        "\n",
        "#Wrong ones\n",
        "print(\"Wrong Predictions\")\n",
        "plt.figure(figsize=(20,4))\n",
        "for i,feat in enumerate(err_features[0:10]):\n",
        "    plt.subplot(1, 10, i+1)    \n",
        "    plt.imshow(feat.reshape(8,8), cmap=plt.cm.gray)\n",
        "\n",
        "    \n",
        "    \n",
        "plt.show()\n",
        "print(\"predict:\",res[res!=classes_test][0:10])\n",
        "print(\"actual: \",classes_test[res!=classes_test][0:10])"
      ],
      "execution_count": 16,
      "outputs": [
        {
          "output_type": "stream",
          "text": [
            "score_train: 1.0\n",
            "score_test: 0.975925925925926\n",
            "Wrong Predictions\n"
          ],
          "name": "stdout"
        },
        {
          "output_type": "display_data",
          "data": {
            "image/png": "[encoded data removed]",
            "text/plain": [
              "<matplotlib.figure.Figure at 0x7f4413ac06a0>"
            ]
          },
          "metadata": {
            "tags": []
          }
        },
        {
          "output_type": "stream",
          "text": [
            "predict: [3 3 4 7 9 7 8 1 7 7]\n",
            "actual:  [9 8 0 3 7 3 9 8 8 4]\n"
          ],
          "name": "stdout"
        }
      ]
    },
    {
      "metadata": {
        "id": "D9d8v0zjb_YY",
        "colab_type": "code",
        "colab": {
          "base_uri": "https://localhost:8080/",
          "height": 227
        },
        "outputId": "68a61dc5-db57-41e4-de60-7858d0001611"
      },
      "cell_type": "code",
      "source": [
        "#Naive Bayes\n",
        "from sklearn import datasets, tree, model_selection,linear_model\n",
        "from sklearn import datasets, tree, model_selection\n",
        "from sklearn.naive_bayes import GaussianNB\n",
        "model = GaussianNB()\n",
        "\n",
        "data = datasets.load_digits()\n",
        "\n",
        "[features_train, features_test, classes_train, classes_test] = model_selection.train_test_split(data.data, data.target, test_size=0.30)\n",
        "clf = model.fit(features_train, classes_train)\n",
        "\n",
        "score_train = model.score(features_train, classes_train)\n",
        "score_test = model.score(features_test, classes_test)\n",
        "\n",
        "print(\"score_train:\", score_train)\n",
        "print(\"score_test:\", score_test)\n",
        "\n",
        "res = model.predict(features_test)\n",
        "err_features=features_test[res!=classes_test,:]\n",
        "\n",
        "\n",
        "\n",
        "\n",
        "#Wrong ones\n",
        "print(\"Wrong Predictions\")\n",
        "plt.figure(figsize=(20,4))\n",
        "for i,feat in enumerate(err_features[0:10]):\n",
        "    plt.subplot(1, 10, i+1)    \n",
        "    plt.imshow(feat.reshape(8,8), cmap=plt.cm.gray)\n",
        "\n",
        "    \n",
        "    \n",
        "plt.show()\n",
        "print(\"predict:\",res[res!=classes_test][0:10])\n",
        "print(\"actual: \",classes_test[res!=classes_test][0:10])"
      ],
      "execution_count": 21,
      "outputs": [
        {
          "output_type": "stream",
          "text": [
            "score_train: 0.8544152744630071\n",
            "score_test: 0.8703703703703703\n",
            "Wrong Predictions\n"
          ],
          "name": "stdout"
        },
        {
          "output_type": "display_data",
          "data": {
            "image/png": "[encoded data removed]",
            "text/plain": [
              "<matplotlib.figure.Figure at 0x7f4413bd9fd0>"
            ]
          },
          "metadata": {
            "tags": []
          }
        },
        {
          "output_type": "stream",
          "text": [
            "predict: [8 7 1 8 3 7 8 1 2 1]\n",
            "actual:  [9 4 9 3 5 4 2 2 1 2]\n"
          ],
          "name": "stdout"
        }
      ]
    },
    {
      "metadata": {
        "id": "4rd6wNSLd3ux",
        "colab_type": "text"
      },
      "cell_type": "markdown",
      "source": [
        "**Conclusão:** Usando uma divisão em que 70% dos dados são destinados para o treinamento do modelo e os restantes 30%  dos dados para testar o modelo conclui-se que o melhor metodo de classificação a ser aplicado neste dataset é o Random Forrest porque possui menor erro no training set e no test set."
      ]
    }
  ]
}