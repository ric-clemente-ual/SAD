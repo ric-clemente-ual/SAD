{
  "nbformat": 4,
  "nbformat_minor": 0,
  "metadata": {
    "colab": {
      "name": "TPC4.ipynb",
      "version": "0.3.2",
      "provenance": [],
      "collapsed_sections": [],
      "include_colab_link": true
    },
    "kernelspec": {
      "name": "python3",
      "display_name": "Python 3"
    }
  },
  "cells": [
    {
      "cell_type": "markdown",
      "metadata": {
        "id": "view-in-github",
        "colab_type": "text"
      },
      "source": [
        "<a href=\"https://colab.research.google.com/github/ric-clemente-ual/SAD/blob/master/TPC4.ipynb\" target=\"_parent\"><img src=\"https://colab.research.google.com/assets/colab-badge.svg\" alt=\"Open In Colab\"/></a>"
      ]
    },
    {
      "metadata": {
        "id": "mZhwgCh8DXZQ",
        "colab_type": "code",
        "outputId": "be3d0930-aeb0-41f3-d7d6-030cb4e3c21c",
        "colab": {
          "base_uri": "https://localhost:8080/",
          "height": 244
        }
      },
      "cell_type": "code",
      "source": [
        "#Tree Decision\n",
        "from sklearn import datasets, tree, model_selection,linear_model\n",
        "import pandas as pd\n",
        "import numpy as np\n",
        "import matplotlib.pyplot as plt\n",
        "from sklearn.linear_model import LogisticRegression \n",
        "\n",
        "\n",
        "data = datasets.load_digits()\n",
        "\n",
        "\n",
        "\n",
        "[features_train, features_test, classes_train, classes_test] = model_selection.train_test_split(data.data, data.target, test_size=0.30)\n",
        "model = tree.DecisionTreeClassifier()\n",
        "\n",
        "clf = model.fit(features_train, classes_train)\n",
        "\n",
        "score_train = model.score(features_train, classes_train)\n",
        "score_test = model.score(features_test, classes_test)\n",
        "\n",
        "print(\"Features:\", data.target_names)\n",
        "print(\"score_train:\", score_train)\n",
        "print(\"score_test:\", score_test)\n",
        "\n",
        "logreg = linear_model.LogisticRegression()\n",
        "logreg\n",
        "\n",
        "logreg.fit(features_train, classes_train)\n",
        "res = logreg.predict(features_test)\n",
        "err_features=features_test[res!=classes_test,:]\n",
        "\n",
        "\n",
        "\n",
        "\n",
        "#Wrong ones\n",
        "print(\"Wrong Predictions\")\n",
        "plt.figure(figsize=(20,4))\n",
        "for i,feat in enumerate(err_features[0:10]):\n",
        "    plt.subplot(1, 10, i+1)    \n",
        "    plt.imshow(feat.reshape(8,8), cmap=plt.cm.gray)\n",
        "\n",
        "    \n",
        "    \n",
        "plt.show()\n",
        "print(\"predict:\",res[res!=classes_test][0:10])\n",
        "print(\"actual: \",classes_test[res!=classes_test][0:10])\n"
      ],
      "execution_count": 8,
      "outputs": [
        {
          "output_type": "stream",
          "text": [
            "Features: [0 1 2 3 4 5 6 7 8 9]\n",
            "score_train: 1.0\n",
            "score_test: 0.8555555555555555\n",
            "Wrong Predictions\n"
          ],
          "name": "stdout"
        },
        {
          "output_type": "display_data",
          "data": {
            "image/png": "[encoded data removed]",
            "text/plain": [
              "<matplotlib.figure.Figure at 0x7f4410d69588>"
            ]
          },
          "metadata": {
            "tags": []
          }
        },
        {
          "output_type": "stream",
          "text": [
            "predict: [1 8 9 8 8 6 7 1 2 1]\n",
            "actual:  [7 1 5 5 3 4 3 8 8 8]\n"
          ],
          "name": "stdout"
        }
      ]
    },
    {
      "metadata": {
        "id": "HgnY_nliZbhz",
        "colab_type": "code",
        "colab": {
          "base_uri": "https://localhost:8080/",
          "height": 227
        },
        "outputId": "52961250-1ede-404d-9616-c1acbf712512"
      },
      "cell_type": "code",
      "source": [
        "#Random Forrest\n",
        "from sklearn import datasets, tree, model_selection,linear_model\n",
        "import numpy as np\n",
        "import matplotlib.pyplot as plt\n",
        "from sklearn.ensemble import RandomForestClassifier\n",
        "from sklearn.linear_model import LogisticRegression \n",
        "\n",
        "data = datasets.load_digits()\n",
        "\n",
        "\n",
        "\n",
        "[features_train, features_test, classes_train, classes_test] = model_selection.train_test_split(data.data, data.target, test_size=0.30)\n",
        "\n",
        "\n",
        "model = RandomForestClassifier(n_estimators=1000)\n",
        "\n",
        "clf = model.fit(features_train, classes_train)\n",
        "\n",
        "score_train = model.score(features_train, classes_train)\n",
        "score_test = model.score(features_test, classes_test)\n",
        "\n",
        "print(\"score_train:\", score_train)\n",
        "print(\"score_test:\", score_test)\n",
        "\n",
        "logreg = linear_model.LogisticRegression()\n",
        "logreg\n",
        "\n",
        "logreg.fit(features_train, classes_train)\n",
        "res = logreg.predict(features_test)\n",
        "err_features=features_test[res!=classes_test,:]\n",
        "\n",
        "\n",
        "\n",
        "\n",
        "#Wrong ones\n",
        "print(\"Wrong Predictions\")\n",
        "plt.figure(figsize=(20,4))\n",
        "for i,feat in enumerate(err_features[0:10]):\n",
        "    plt.subplot(1, 10, i+1)    \n",
        "    plt.imshow(feat.reshape(8,8), cmap=plt.cm.gray)\n",
        "\n",
        "    \n",
        "    \n",
        "plt.show()\n",
        "print(\"predict:\",res[res!=classes_test][0:10])\n",
        "print(\"actual: \",classes_test[res!=classes_test][0:10])"
      ],
      "execution_count": 9,
      "outputs": [
        {
          "output_type": "stream",
          "text": [
            "score_train: 1.0\n",
            "score_test: 0.9648148148148148\n",
            "Wrong Predictions\n"
          ],
          "name": "stdout"
        },
        {
          "output_type": "display_data",
          "data": {
            "image/png": "[encoded data removed]",
            "text/plain": [
              "<matplotlib.figure.Figure at 0x7f4410d690f0>"
            ]
          },
          "metadata": {
            "tags": []
          }
        },
        {
          "output_type": "stream",
          "text": [
            "predict: [8 3 1 1 1 1 3 5 4 1]\n",
            "actual:  [3 8 6 8 8 7 1 0 7 8]\n"
          ],
          "name": "stdout"
        }
      ]
    },
    {
      "metadata": {
        "id": "D9d8v0zjb_YY",
        "colab_type": "code",
        "colab": {
          "base_uri": "https://localhost:8080/",
          "height": 227
        },
        "outputId": "9b1f44af-fb80-4ef6-f336-a5a66556f518"
      },
      "cell_type": "code",
      "source": [
        "#Naive Bayes\n",
        "from sklearn import datasets, tree, model_selection,linear_model\n",
        "from sklearn.linear_model import LogisticRegression \n",
        "from sklearn import datasets, tree, model_selection\n",
        "from sklearn.naive_bayes import GaussianNB\n",
        "gnb = GaussianNB()\n",
        "\n",
        "data = datasets.load_digits()\n",
        "\n",
        "[features_train, features_test, classes_train, classes_test] = model_selection.train_test_split(data.data, data.target, test_size=0.30)\n",
        "y_pred = gnb.fit(features_train, classes_train)\n",
        "\n",
        "score_train = gnb.score(features_train, classes_train)\n",
        "score_test = gnb.score(features_test, classes_test)\n",
        "\n",
        "print(\"score_train:\", score_train)\n",
        "print(\"score_test:\", score_test)\n",
        "\n",
        "logreg = linear_model.LogisticRegression()\n",
        "logreg\n",
        "\n",
        "logreg.fit(features_train, classes_train)\n",
        "res = logreg.predict(features_test)\n",
        "err_features=features_test[res!=classes_test,:]\n",
        "\n",
        "\n",
        "\n",
        "\n",
        "#Wrong ones\n",
        "print(\"Wrong Predictions\")\n",
        "plt.figure(figsize=(20,4))\n",
        "for i,feat in enumerate(err_features[0:10]):\n",
        "    plt.subplot(1, 10, i+1)    \n",
        "    plt.imshow(feat.reshape(8,8), cmap=plt.cm.gray)\n",
        "\n",
        "    \n",
        "    \n",
        "plt.show()\n",
        "print(\"predict:\",res[res!=classes_test][0:10])\n",
        "print(\"actual: \",classes_test[res!=classes_test][0:10])"
      ],
      "execution_count": 10,
      "outputs": [
        {
          "output_type": "stream",
          "text": [
            "score_train: 0.883054892601432\n",
            "score_test: 0.837037037037037\n",
            "Wrong Predictions\n"
          ],
          "name": "stdout"
        },
        {
          "output_type": "display_data",
          "data": {
            "image/png": "[encoded data removed]",
            "text/plain": [
              "<matplotlib.figure.Figure at 0x7f4410fbeb38>"
            ]
          },
          "metadata": {
            "tags": []
          }
        },
        {
          "output_type": "stream",
          "text": [
            "predict: [9 8 3 3 1 3 5 8 8 1]\n",
            "actual:  [5 3 1 7 9 9 9 9 9 8]\n"
          ],
          "name": "stdout"
        }
      ]
    },
    {
      "metadata": {
        "id": "4rd6wNSLd3ux",
        "colab_type": "text"
      },
      "cell_type": "markdown",
      "source": [
        "**Conclusão:** Usando uma divisão em que 70% dos dados são destinados para o treinamento do modelo e os restantes 30%  dos dados para testar o modelo conclui-se que o melhor metodo de classificação a ser aplicado neste dataset é o Random Forrest porque possui menor erro no training set e no test set."
      ]
    }
  ]
}