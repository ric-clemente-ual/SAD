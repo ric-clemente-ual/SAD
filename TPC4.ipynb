{
  "nbformat": 4,
  "nbformat_minor": 0,
  "metadata": {
    "colab": {
      "name": "TPC4.ipynb",
      "version": "0.3.2",
      "provenance": [],
      "collapsed_sections": [],
      "include_colab_link": true
    },
    "kernelspec": {
      "name": "python3",
      "display_name": "Python 3"
    }
  },
  "cells": [
    {
      "cell_type": "markdown",
      "metadata": {
        "id": "view-in-github",
        "colab_type": "text"
      },
      "source": [
        "<a href=\"https://colab.research.google.com/github/ric-clemente-ual/SAD/blob/master/TPC4.ipynb\" target=\"_parent\"><img src=\"https://colab.research.google.com/assets/colab-badge.svg\" alt=\"Open In Colab\"/></a>"
      ]
    },
    {
      "metadata": {
        "id": "mZhwgCh8DXZQ",
        "colab_type": "code",
        "outputId": "2d89c299-0ce4-44bb-b2ce-3aacbaffeddb",
        "colab": {
          "base_uri": "https://localhost:8080/",
          "height": 244
        }
      },
      "cell_type": "code",
      "source": [
        "#Tree Decision\n",
        "from sklearn import datasets, tree, model_selection,linear_model\n",
        "import pandas as pd\n",
        "import numpy as np\n",
        "import matplotlib.pyplot as plt\n",
        "\n",
        "\n",
        "\n",
        "data = datasets.load_digits()\n",
        "\n",
        "\n",
        "\n",
        "[features_train, features_test, classes_train, classes_test] = model_selection.train_test_split(data.data, data.target, test_size=0.30)\n",
        "model = tree.DecisionTreeClassifier()\n",
        "\n",
        "clf = model.fit(features_train, classes_train)\n",
        "\n",
        "score_train = model.score(features_train, classes_train)\n",
        "score_test = model.score(features_test, classes_test)\n",
        "\n",
        "print(\"Features:\", data.target_names)\n",
        "print(\"score_train:\", score_train)\n",
        "print(\"score_test:\", score_test)\n",
        "\n",
        "\n",
        "err_features=features_test[res!=classes_test,:]\n",
        "\n",
        "\n",
        "\n",
        "\n",
        "#Wrong ones\n",
        "print(\"Wrong Predictions\")\n",
        "plt.figure(figsize=(20,4))\n",
        "for i,feat in enumerate(err_features[0:10]):\n",
        "    plt.subplot(1, 10, i+1)    \n",
        "    plt.imshow(feat.reshape(8,8), cmap=plt.cm.gray)\n",
        "\n",
        "    \n",
        "    \n",
        "plt.show()\n",
        "print(\"predict:\",res[res!=classes_test][0:10])\n",
        "print(\"actual: \",classes_test[res!=classes_test][0:10])\n"
      ],
      "execution_count": 11,
      "outputs": [
        {
          "output_type": "stream",
          "text": [
            "Features: [0 1 2 3 4 5 6 7 8 9]\n",
            "score_train: 1.0\n",
            "score_test: 0.85\n",
            "Wrong Predictions\n"
          ],
          "name": "stdout"
        },
        {
          "output_type": "display_data",
          "data": {
            "image/png": "[encoded data removed]",
            "text/plain": [
              "<matplotlib.figure.Figure at 0x7f4413bdeb70>"
            ]
          },
          "metadata": {
            "tags": []
          }
        },
        {
          "output_type": "stream",
          "text": [
            "predict: [9 6 9 4 6 4 6 1 4 8]\n",
            "actual:  [3 3 0 6 1 5 2 5 5 5]\n"
          ],
          "name": "stdout"
        }
      ]
    },
    {
      "metadata": {
        "id": "HgnY_nliZbhz",
        "colab_type": "code",
        "colab": {
          "base_uri": "https://localhost:8080/",
          "height": 227
        },
        "outputId": "fbbe7f81-d962-491b-899b-41ae5b06bf9c"
      },
      "cell_type": "code",
      "source": [
        "#Random Forrest\n",
        "from sklearn import datasets, tree, model_selection,linear_model\n",
        "import numpy as np\n",
        "import matplotlib.pyplot as plt\n",
        "from sklearn.ensemble import RandomForestClassifier\n",
        "\n",
        "\n",
        "data = datasets.load_digits()\n",
        "\n",
        "\n",
        "\n",
        "[features_train, features_test, classes_train, classes_test] = model_selection.train_test_split(data.data, data.target, test_size=0.30)\n",
        "\n",
        "\n",
        "model = RandomForestClassifier(n_estimators=1000)\n",
        "\n",
        "clf = model.fit(features_train, classes_train)\n",
        "\n",
        "score_train = model.score(features_train, classes_train)\n",
        "score_test = model.score(features_test, classes_test)\n",
        "\n",
        "print(\"score_train:\", score_train)\n",
        "print(\"score_test:\", score_test)\n",
        "\n",
        "\n",
        "err_features=features_test[res!=classes_test,:]\n",
        "\n",
        "\n",
        "\n",
        "\n",
        "#Wrong ones\n",
        "print(\"Wrong Predictions\")\n",
        "plt.figure(figsize=(20,4))\n",
        "for i,feat in enumerate(err_features[0:10]):\n",
        "    plt.subplot(1, 10, i+1)    \n",
        "    plt.imshow(feat.reshape(8,8), cmap=plt.cm.gray)\n",
        "\n",
        "    \n",
        "    \n",
        "plt.show()\n",
        "print(\"predict:\",res[res!=classes_test][0:10])\n",
        "print(\"actual: \",classes_test[res!=classes_test][0:10])"
      ],
      "execution_count": 12,
      "outputs": [
        {
          "output_type": "stream",
          "text": [
            "score_train: 1.0\n",
            "score_test: 0.9796296296296296\n",
            "Wrong Predictions\n"
          ],
          "name": "stdout"
        },
        {
          "output_type": "display_data",
          "data": {
            "image/png": "[encoded data removed]",
            "text/plain": [
              "<matplotlib.figure.Figure at 0x7f4410a8ae48>"
            ]
          },
          "metadata": {
            "tags": []
          }
        },
        {
          "output_type": "stream",
          "text": [
            "predict: [9 6 4 6 4 6 1 0 4 8]\n",
            "actual:  [6 4 3 5 1 3 8 3 1 9]\n"
          ],
          "name": "stdout"
        }
      ]
    },
    {
      "metadata": {
        "id": "D9d8v0zjb_YY",
        "colab_type": "code",
        "colab": {
          "base_uri": "https://localhost:8080/",
          "height": 227
        },
        "outputId": "345bef1a-9c4c-4121-e58a-25ed4e88365c"
      },
      "cell_type": "code",
      "source": [
        "#Naive Bayes\n",
        "from sklearn import datasets, tree, model_selection,linear_model\n",
        "from sklearn import datasets, tree, model_selection\n",
        "from sklearn.naive_bayes import GaussianNB\n",
        "gnb = GaussianNB()\n",
        "\n",
        "data = datasets.load_digits()\n",
        "\n",
        "[features_train, features_test, classes_train, classes_test] = model_selection.train_test_split(data.data, data.target, test_size=0.30)\n",
        "y_pred = gnb.fit(features_train, classes_train)\n",
        "\n",
        "score_train = gnb.score(features_train, classes_train)\n",
        "score_test = gnb.score(features_test, classes_test)\n",
        "\n",
        "print(\"score_train:\", score_train)\n",
        "print(\"score_test:\", score_test)\n",
        "\n",
        "\n",
        "err_features=features_test[res!=classes_test,:]\n",
        "\n",
        "\n",
        "\n",
        "\n",
        "#Wrong ones\n",
        "print(\"Wrong Predictions\")\n",
        "plt.figure(figsize=(20,4))\n",
        "for i,feat in enumerate(err_features[0:10]):\n",
        "    plt.subplot(1, 10, i+1)    \n",
        "    plt.imshow(feat.reshape(8,8), cmap=plt.cm.gray)\n",
        "\n",
        "    \n",
        "    \n",
        "plt.show()\n",
        "print(\"predict:\",res[res!=classes_test][0:10])\n",
        "print(\"actual: \",classes_test[res!=classes_test][0:10])"
      ],
      "execution_count": 13,
      "outputs": [
        {
          "output_type": "stream",
          "text": [
            "score_train: 0.8607796340493238\n",
            "score_test: 0.8351851851851851\n",
            "Wrong Predictions\n"
          ],
          "name": "stdout"
        },
        {
          "output_type": "display_data",
          "data": {
            "image/png": "[encoded data removed]",
            "text/plain": [
              "<matplotlib.figure.Figure at 0x7f4410ca7f98>"
            ]
          },
          "metadata": {
            "tags": []
          }
        },
        {
          "output_type": "stream",
          "text": [
            "predict: [9 6 9 4 6 4 6 0 4 8]\n",
            "actual:  [3 0 4 5 4 3 8 3 9 4]\n"
          ],
          "name": "stdout"
        }
      ]
    },
    {
      "metadata": {
        "id": "4rd6wNSLd3ux",
        "colab_type": "text"
      },
      "cell_type": "markdown",
      "source": [
        "**Conclusão:** Usando uma divisão em que 70% dos dados são destinados para o treinamento do modelo e os restantes 30%  dos dados para testar o modelo conclui-se que o melhor metodo de classificação a ser aplicado neste dataset é o Random Forrest porque possui menor erro no training set e no test set."
      ]
    }
  ]
}