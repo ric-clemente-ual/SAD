{
  "nbformat": 4,
  "nbformat_minor": 0,
  "metadata": {
    "colab": {
      "name": "TPC5.ipynb",
      "version": "0.3.2",
      "provenance": [],
      "collapsed_sections": [],
      "include_colab_link": true
    },
    "kernelspec": {
      "name": "python3",
      "display_name": "Python 3"
    }
  },
  "cells": [
    {
      "cell_type": "markdown",
      "metadata": {
        "id": "view-in-github",
        "colab_type": "text"
      },
      "source": [
        "<a href=\"https://colab.research.google.com/github/ric-clemente-ual/SAD/blob/master/TPC5.ipynb\" target=\"_parent\"><img src=\"https://colab.research.google.com/assets/colab-badge.svg\" alt=\"Open In Colab\"/></a>"
      ]
    },
    {
      "metadata": {
        "id": "RR7LVWubE0h_",
        "colab_type": "code",
        "colab": {}
      },
      "cell_type": "code",
      "source": [
        ""
      ],
      "execution_count": 0,
      "outputs": []
    },
    {
      "metadata": {
        "id": "D9yQ3-FeE1Qu",
        "colab_type": "text"
      },
      "cell_type": "markdown",
      "source": [
        "**Trabalho realizado por :**\n",
        "\n",
        "**Alícia Silva – 30001928** \n",
        "\n",
        "**Maria dos Santos 20160732 **\n",
        "\n",
        "**Pedro Lourenço – 20160718 **\n",
        "\n",
        "**Ricardo Clemente-30000794**\n",
        "\n",
        "\n",
        "\n",
        "O nosso dataset  é constituido por 2 features Imagem e Vista , ou seja a sua dimensionalidade é 2. \n",
        "\n",
        "Uma das features pode ou nao ter  dados esparços , em que a feature Imagem  e representada por uma matriz , e se aplicarmos o filtro do openCV cv2.Canny , faz com que a imagem apresente apenas pequenos pontos brancos e vai fazer com que a informaçao na matriz seja menor , sendo a maioria dos valores zeros, logo os dados com a aplicação desse filtro serão esparços.\n",
        "\n",
        "As imagens do nosso dataset são normalizadas para uma resolução de 64x64 no caso de usarmos o cv2.Canny , e resolução de 100x200 no caso de usarmos o cv2.HOGDescriptor.\n",
        "\n",
        "O tamanho do nosso dataset, no nosso caso será o array de imagens , que terá o tamanho de 399 , sendo esse numero correspondente ao numero total de imagens.\n",
        "\n",
        "Os  valores relativamente  a feature Vista são do tipo discretos em que apenas podem ser \"ATRAS\",\"FRENTE\" e \"PRESPECTIVA\". Relativamente a feature imagens tambem sao discretos em que cada matriz que representa cada imagem so pode assumir valores entre 0 a 255\n",
        "\n",
        "Na feature imagens poderá haver outliers , principalmente na vista \"ATRAS\" em que grande parte das imagens foram mal classificadas em que poderá haver imagens dessa vista que se afastam um pouco da média.\n",
        "\n",
        "O nosso dataset poderia ser composto por mais features , como por exemplo , em vez de termos imagens com apenas um determinado filtro de cada vez , podiamos ter as mesmas imagem com varios filtros no mesmo dataset , em que cada filtro representava uma feature,  podendo o nosso modelo ter uma melhor accuracy. Podiamos tambem acrescentar features tais como se a imagem contem um carro ou não , o tipo do carro , ou ate mesmo a marca do carro.\n",
        "\n",
        "Em uma parte do código tivemos que fazer o one hot encoding às vistas para se conseguir implementar o sklearn.metrics roc curve , em que este não aceita labels com multiclasse , mas apenas valores binarios.\n",
        "\n",
        "Os nossos resultados foram bastante satisfatórios usando o Random Forest e o Linear Support Vector Classification , em que conseguimos atingir accuracys proximo dos 80% . No entanto obtivemos varias imagens mal classificadas na vista \"ATRAS\", em que este se confunde na sua maioria com as imagens da vista \"FRENTE\" o que faz sentido , porque sao bastante identicas. Podemos melhorar se arranjarmos melhores imagens ou filtros do open cv para conseguir distinguir quais sao as com a vista \"ATRAS\" e assim melhorar o desempenho do nosso modelo .\n",
        "\n"
      ]
    }
  ]
}